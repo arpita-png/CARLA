{
 "cells": [
  {
   "cell_type": "code",
   "execution_count": 1,
   "id": "905dbeb1-742b-4ed8-b311-f48e68b92b8d",
   "metadata": {},
   "outputs": [],
   "source": [
    "# import the CARLA python API package\n",
    "import carla"
   ]
  },
  {
   "cell_type": "code",
   "execution_count": 2,
   "id": "2e3185ac-cf9c-4125-84b4-bfbfc953fe17",
   "metadata": {},
   "outputs": [
    {
     "name": "stdout",
     "output_type": "stream",
     "text": [
      "Connected to- Carla/Maps/Town10HD_Opt\n"
     ]
    }
   ],
   "source": [
    "# Create a client object to connect to the carla simulator\n",
    "# localhost - simulator is running on the same machine\n",
    "# 2000 default port carla listens to\n",
    "\n",
    "client = carla.Client('localhost', 2000)\n",
    "\n",
    "# set the timeout in seconds for the client to wait for a response\n",
    "client.set_timeout(10.0)\n",
    "\n",
    "# access to the current simulation world running inside the carla \n",
    "world = client.get_world()\n",
    "\n",
    "# print name of the currently loaded map \n",
    "print(\"Connected to-\", world.get_map().name)"
   ]
  },
  {
   "cell_type": "code",
   "execution_count": 3,
   "id": "c4cd1a1a-5d3d-426e-987e-161e0cc2d8c8",
   "metadata": {},
   "outputs": [
    {
     "name": "stdout",
     "output_type": "stream",
     "text": [
      "Map sucessfully changed to town 01\n"
     ]
    }
   ],
   "source": [
    "client.load_world('/Game/Carla/Maps/Town01')\n",
    "print('Map sucessfully changed to town 01')"
   ]
  },
  {
   "cell_type": "code",
   "execution_count": 4,
   "id": "6ccd0ce7-f997-4935-a869-f012aede72cb",
   "metadata": {},
   "outputs": [
    {
     "name": "stdout",
     "output_type": "stream",
     "text": [
      "Map sucessfully changed to town 03_Opt\n"
     ]
    }
   ],
   "source": [
    "client.load_world('/Game/Carla/Maps/Town03_Opt')\n",
    "print('Map sucessfully changed to town 03_Opt')"
   ]
  },
  {
   "cell_type": "code",
   "execution_count": 19,
   "id": "65d1dafe-3684-44db-a843-ff5514b5e71a",
   "metadata": {},
   "outputs": [
    {
     "name": "stdout",
     "output_type": "stream",
     "text": [
      "Map sucessfully changed to town 10HD_Opt\n"
     ]
    }
   ],
   "source": [
    "client.load_world('/Game/Carla/Maps/Town10HD_Opt')\n",
    "print('Map sucessfully changed to town 10HD_Opt')"
   ]
  },
  {
   "cell_type": "code",
   "execution_count": 7,
   "id": "93956060-f9cf-4b33-b413-9acbb1a8f9eb",
   "metadata": {},
   "outputs": [
    {
     "name": "stdout",
     "output_type": "stream",
     "text": [
      "Map sucessfully changed to town 04_Opt\n"
     ]
    }
   ],
   "source": [
    "client.load_world('/Game/Carla/Maps/Town04_Opt')\n",
    "print('Map sucessfully changed to town 04_Opt')"
   ]
  },
  {
   "cell_type": "code",
   "execution_count": 4,
   "id": "2cb3acfd-cb41-4259-a425-dc9855ca654c",
   "metadata": {},
   "outputs": [
    {
     "name": "stdout",
     "output_type": "stream",
     "text": [
      "Map sucessfully changed to town 04\n"
     ]
    }
   ],
   "source": [
    "client.load_world('/Game/Carla/Maps/Town04')\n",
    "print('Map sucessfully changed to town 04')"
   ]
  },
  {
   "cell_type": "code",
   "execution_count": 9,
   "id": "3139c78b-a667-464f-964d-ac5355df4ddb",
   "metadata": {},
   "outputs": [
    {
     "name": "stdout",
     "output_type": "stream",
     "text": [
      "Map sucessfully changed to town 02\n"
     ]
    }
   ],
   "source": [
    "client.load_world('/Game/Carla/Maps/Town02')\n",
    "print('Map sucessfully changed to town 02')"
   ]
  },
  {
   "cell_type": "code",
   "execution_count": 10,
   "id": "a8b8531b-22de-45e2-aec4-360f264a9cfc",
   "metadata": {},
   "outputs": [
    {
     "name": "stdout",
     "output_type": "stream",
     "text": [
      "Map sucessfully changed to town 07\n"
     ]
    }
   ],
   "source": [
    "client.load_world('/Game/Carla/Maps/Town07')\n",
    "print('Map sucessfully changed to town 07')"
   ]
  },
  {
   "cell_type": "code",
   "execution_count": 11,
   "id": "17c7dbfb-3a6f-4062-8c03-ea17cd877065",
   "metadata": {},
   "outputs": [
    {
     "name": "stdout",
     "output_type": "stream",
     "text": [
      "Map sucessfully changed to town 06\n"
     ]
    }
   ],
   "source": [
    "client.load_world('/Game/Carla/Maps/Town06')\n",
    "print('Map sucessfully changed to town 06')"
   ]
  },
  {
   "cell_type": "code",
   "execution_count": 14,
   "id": "1c097fe1-232f-427b-b377-4aee7d18a397",
   "metadata": {},
   "outputs": [
    {
     "name": "stdout",
     "output_type": "stream",
     "text": [
      "Map sucessfully changed to town 05\n"
     ]
    }
   ],
   "source": [
    "client.load_world('/Game/Carla/Maps/Town05')\n",
    "print('Map sucessfully changed to town 05')"
   ]
  },
  {
   "cell_type": "code",
   "execution_count": 15,
   "id": "48c556f8-b7e1-4918-908d-edad3c1b813b",
   "metadata": {},
   "outputs": [
    {
     "name": "stdout",
     "output_type": "stream",
     "text": [
      "Map sucessfully changed to town 05_Opt\n"
     ]
    }
   ],
   "source": [
    "client.load_world('/Game/Carla/Maps/Town05_Opt')\n",
    "print('Map sucessfully changed to town 05_Opt')"
   ]
  },
  {
   "cell_type": "code",
   "execution_count": 16,
   "id": "962ccbbf-24ab-48a1-8b67-9f121c1ed022",
   "metadata": {},
   "outputs": [
    {
     "name": "stdout",
     "output_type": "stream",
     "text": [
      "Map sucessfully changed to town 03\n"
     ]
    }
   ],
   "source": [
    "client.load_world('/Game/Carla/Maps/Town03')\n",
    "print('Map sucessfully changed to town 03')"
   ]
  },
  {
   "cell_type": "code",
   "execution_count": 17,
   "id": "c67a58aa-c036-425f-97ff-e7fa1fdcfe04",
   "metadata": {},
   "outputs": [
    {
     "name": "stdout",
     "output_type": "stream",
     "text": [
      "Map sucessfully changed to town 02_Opt\n"
     ]
    }
   ],
   "source": [
    "client.load_world('/Game/Carla/Maps/Town02_Opt')\n",
    "print('Map sucessfully changed to town 02_Opt')"
   ]
  },
  {
   "cell_type": "code",
   "execution_count": 18,
   "id": "de3cda30-1b10-4b8b-bc33-bd994ad77b0e",
   "metadata": {},
   "outputs": [
    {
     "name": "stdout",
     "output_type": "stream",
     "text": [
      "Map sucessfully changed to town 01_Opt\n"
     ]
    }
   ],
   "source": [
    "client.load_world('/Game/Carla/Maps/Town01_Opt')\n",
    "print('Map sucessfully changed to town 01_Opt')"
   ]
  },
  {
   "cell_type": "code",
   "execution_count": 21,
   "id": "73551978-b251-463f-b4ea-f10c35e21865",
   "metadata": {},
   "outputs": [
    {
     "name": "stdout",
     "output_type": "stream",
     "text": [
      "Map sucessfully changed to town 01\n"
     ]
    }
   ],
   "source": [
    "client.load_world('/Game/Carla/Maps/Town15/Town15')\n",
    "print('Map sucessfully changed to town 15')"
   ]
  },
  {
   "cell_type": "code",
   "execution_count": 4,
   "id": "2788861b-cb3f-4371-9fba-bda9223cfff7",
   "metadata": {},
   "outputs": [
    {
     "name": "stdout",
     "output_type": "stream",
     "text": [
      "Map sucessfully changed to town 11\n"
     ]
    }
   ],
   "source": [
    "client.load_world('/Game/Carla/Maps/Town11/Town11')\n",
    "print('Map sucessfully changed to town 11')"
   ]
  },
  {
   "cell_type": "code",
   "execution_count": 14,
   "id": "7bf12ccc-92a5-4370-a0f4-184d1f65d498",
   "metadata": {},
   "outputs": [
    {
     "name": "stdout",
     "output_type": "stream",
     "text": [
      "Available maps:\n",
      "- /Game/Carla/Maps/Town01\n",
      "- /Game/Carla/Maps/Town03_Opt\n",
      "- /Game/Carla/Maps/Town10HD_Opt\n",
      "- /Game/Carla/Maps/Town10HD\n",
      "- /Game/Carla/Maps/Town04_Opt\n",
      "- /Game/Carla/Maps/Town04\n",
      "- /Game/Carla/Maps/Town02\n",
      "- /Game/Carla/Maps/Town07\n",
      "- /Game/Carla/Maps/Town06\n",
      "- /Game/Carla/Maps/Town05\n",
      "- /Game/Carla/Maps/Town03\n",
      "- /Game/Carla/Maps/Town05_Opt\n",
      "- /Game/Carla/Maps/Town02_Opt\n",
      "- /Game/Carla/Maps/Town01_Opt\n",
      "- /Game/Carla/Maps/Town13/Town13\n",
      "- /Game/Carla/Maps/Town15/Town15\n",
      "- /Game/Carla/Maps/Town11/Town11\n",
      "- /Game/Carla/Maps/Town12/Town12\n"
     ]
    }
   ],
   "source": [
    "available_maps = client.get_available_maps()\n",
    "print(\"Available maps:\")\n",
    "for m in available_maps:\n",
    "    print(\"-\", m)\n",
    "\n"
   ]
  },
  {
   "cell_type": "code",
   "execution_count": 33,
   "id": "c9f1f576-e3c3-4613-9814-b5409e787dad",
   "metadata": {},
   "outputs": [
    {
     "name": "stdout",
     "output_type": "stream",
     "text": [
      "map loaded: Carla/Maps/Town01\n"
     ]
    }
   ],
   "source": [
    "# loaded map test\n",
    "\n",
    "world = client.get_world()\n",
    "map_name = world.get_map().name     # world.get_map() get info about the map eg town01\n",
    "print('map loaded:', map_name)\n"
   ]
  },
  {
   "cell_type": "code",
   "execution_count": null,
   "id": "67e0444c-4ecc-4623-964d-2d3e3bc63961",
   "metadata": {},
   "outputs": [],
   "source": []
  }
 ],
 "metadata": {
  "kernelspec": {
   "display_name": "CARLA (new_env)",
   "language": "python",
   "name": "carla_jupyter_env"
  },
  "language_info": {
   "codemirror_mode": {
    "name": "ipython",
    "version": 3
   },
   "file_extension": ".py",
   "mimetype": "text/x-python",
   "name": "python",
   "nbconvert_exporter": "python",
   "pygments_lexer": "ipython3",
   "version": "3.10.12"
  }
 },
 "nbformat": 4,
 "nbformat_minor": 5
}
