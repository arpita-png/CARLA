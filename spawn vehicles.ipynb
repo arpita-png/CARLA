{
 "cells": [
  {
   "cell_type": "code",
   "execution_count": 36,
   "id": "ce171aad-241f-46b5-97da-0e7b0a8a38cb",
   "metadata": {},
   "outputs": [
    {
     "name": "stdout",
     "output_type": "stream",
     "text": [
      "Connected to Carla/Maps/Town03\n"
     ]
    }
   ],
   "source": [
    "# Connect to the carla server\n",
    "\n",
    "import carla\n",
    "\n",
    "client= carla.Client('localhost', 2000)\n",
    "client.set_timeout(10.0)\n",
    "\n",
    "world = client.get_world()\n",
    "print('Connected to', world.get_map().name)"
   ]
  },
  {
   "cell_type": "code",
   "execution_count": 37,
   "id": "0c9461dd-0e08-4554-8f38-1f68536be08d",
   "metadata": {},
   "outputs": [
    {
     "name": "stdout",
     "output_type": "stream",
     "text": [
      "Loaded map Carla/Maps/Town03\n"
     ]
    }
   ],
   "source": [
    "# load specific map by calling method on the client object\n",
    "\n",
    "world = client.load_world('/Game/Carla/Maps/Town03')\n",
    "print('Loaded map' ,world.get_map().name)"
   ]
  },
  {
   "cell_type": "code",
   "execution_count": 32,
   "id": "2484d0b2-6006-4294-835c-8a0bfbca2723",
   "metadata": {},
   "outputs": [
    {
     "name": "stdout",
     "output_type": "stream",
     "text": [
      "weather set to cloudy sunset\n"
     ]
    }
   ],
   "source": [
    "# set weather to cloudy sunset\n",
    "\n",
    "weather = carla.WeatherParameters.HardRainSunset\n",
    "world.set_weather(weather)\n",
    "print('weather set to cloudy sunset')"
   ]
  },
  {
   "cell_type": "code",
   "execution_count": 33,
   "id": "38a0bb48-753d-43eb-a538-5cd9738af070",
   "metadata": {},
   "outputs": [],
   "source": [
    "# get vehicle blueprint & spawn points \n",
    "\n",
    "blueprint_library= world.get_blueprint_library()\n",
    "vehicle_bp= blueprint_library.filter('vehicle.tesla.model3')[0]\n",
    "\n",
    "spawn_points = world.get_map().get_spawn_points()\n",
    "spawn_point = spawn_points[0]\n"
   ]
  },
  {
   "cell_type": "code",
   "execution_count": 34,
   "id": "76900f3b-1ef6-4bc3-af3d-8b7c2712cd4c",
   "metadata": {},
   "outputs": [],
   "source": [
    "# spawn the vehicle and enable autopilot\n",
    "\n",
    "vehicle = world.spawn_actor(vehicle_bp, spawn_point)\n",
    "vehicle.set_autopilot(True) #  vehicle the actor that is spawned "
   ]
  },
  {
   "cell_type": "code",
   "execution_count": 14,
   "id": "02126bd9-17c7-44aa-ae61-e72afd6ce933",
   "metadata": {},
   "outputs": [
    {
     "name": "stdout",
     "output_type": "stream",
     "text": [
      "vehicle destroyed\n"
     ]
    }
   ],
   "source": [
    "import time\n",
    "time.sleep(5)\n",
    "\n",
    "vehicle.destroy()\n",
    "print('vehicle destroyed')"
   ]
  },
  {
   "cell_type": "code",
   "execution_count": null,
   "id": "dccf618e-333b-493d-8f8f-bdcf5aa53130",
   "metadata": {},
   "outputs": [],
   "source": [
    "help(carla.WeatherParameters)"
   ]
  },
  {
   "cell_type": "code",
   "execution_count": null,
   "id": "399d81be-bdd6-47e3-8abf-3c98d201a071",
   "metadata": {},
   "outputs": [],
   "source": [
    "import carla\n",
    "\n",
    "for preset in dir(carla.WeatherParameters):\n",
    "    if not preset.startswith('_'):\n",
    "        print(preset)"
   ]
  },
  {
   "cell_type": "code",
   "execution_count": 38,
   "id": "69aabc35-b878-41da-9970-cfcc9bfa863b",
   "metadata": {},
   "outputs": [
    {
     "name": "stdout",
     "output_type": "stream",
     "text": [
      " Vehicle 1 spawned at Transform(Location(x=-6.446170, y=-79.055023, z=0.275307), Rotation(pitch=0.000000, yaw=92.004189, roll=0.000000)).location\n",
      " Vehicle 2 spawned at Transform(Location(x=65.516594, y=7.808423, z=0.275307), Rotation(pitch=0.000000, yaw=0.855823, roll=0.000000)).location\n",
      " Vehicle 3 spawned at Transform(Location(x=76.468864, y=4.308813, z=0.275307), Rotation(pitch=0.000000, yaw=0.855823, roll=0.000000)).location\n",
      " Vehicle 4 spawned at Transform(Location(x=-2.419357, y=204.005676, z=0.275307), Rotation(pitch=0.000000, yaw=-0.142975, roll=0.000000)).location\n",
      " Vehicle 5 spawned at Transform(Location(x=5.989376, y=207.505676, z=0.275307), Rotation(pitch=0.000000, yaw=-0.142975, roll=0.000000)).location\n",
      " Vehicle 6 spawned at Transform(Location(x=-20.033100, y=204.005676, z=0.275307), Rotation(pitch=0.000000, yaw=-0.142975, roll=0.000000)).location\n",
      " Vehicle 7 spawned at Transform(Location(x=-11.424367, y=207.505676, z=0.275307), Rotation(pitch=0.000000, yaw=-0.142975, roll=0.000000)).location\n",
      " Vehicle 8 spawned at Transform(Location(x=-1.848311, y=-87.232613, z=0.275307), Rotation(pitch=0.000000, yaw=92.004189, roll=0.000000)).location\n",
      " Vehicle 9 spawned at Transform(Location(x=-55.049702, y=0.545833, z=0.275307), Rotation(pitch=0.000000, yaw=1.666941, roll=0.000000)).location\n",
      " Vehicle 10 spawned at Transform(Location(x=-117.493454, y=-3.221493, z=0.275307), Rotation(pitch=0.000000, yaw=-179.705399, roll=0.000000)).location\n",
      " Vehicle 11 spawned at Transform(Location(x=-77.887169, y=23.344204, z=0.350000), Rotation(pitch=-0.348271, yaw=-90.156235, roll=-0.000000)).location\n",
      " Vehicle 12 spawned at Transform(Location(x=-74.387177, y=25.734657, z=0.350000), Rotation(pitch=-0.348271, yaw=-90.156235, roll=-0.000000)).location\n",
      " Vehicle 13 spawned at Transform(Location(x=-77.887169, y=33.206928, z=0.648878), Rotation(pitch=-0.348271, yaw=-90.156235, roll=-0.000000)).location\n",
      " Vehicle 14 spawned at Transform(Location(x=-74.387177, y=41.997383, z=0.948878), Rotation(pitch=-0.348271, yaw=-90.156235, roll=-0.000000)).location\n",
      " Vehicle 15 spawned at Transform(Location(x=-77.887169, y=52.041164, z=1.007297), Rotation(pitch=-0.348271, yaw=-90.156235, roll=-0.000000)).location\n",
      " Vehicle 16 spawned at Transform(Location(x=-74.387177, y=59.431622, z=1.207297), Rotation(pitch=-0.348271, yaw=-90.156235, roll=-0.000000)).location\n",
      " Vehicle 17 spawned at Transform(Location(x=-77.687164, y=68.358574, z=1.302074), Rotation(pitch=-0.348271, yaw=-90.156235, roll=-0.000000)).location\n",
      " Vehicle 18 spawned at Transform(Location(x=149.592041, y=5.371150, z=0.275307), Rotation(pitch=0.000000, yaw=0.855804, roll=0.000000)).location\n",
      " Vehicle 19 spawned at Transform(Location(x=140.539780, y=8.870760, z=0.275307), Rotation(pitch=0.000000, yaw=0.855804, roll=0.000000)).location\n",
      " Vehicle 20 spawned at Transform(Location(x=129.127945, y=5.371150, z=0.275307), Rotation(pitch=0.000000, yaw=0.855804, roll=0.000000)).location\n"
     ]
    }
   ],
   "source": [
    "# spawn 3 vehicles at first 3 points\n",
    "blueprint_library= world.get_blueprint_library()\n",
    "vehicle_bp= blueprint_library.filter('vehicle.tesla.model3')[0]\n",
    "spawn_points= world.get_map().get_spawn_points()\n",
    "\n",
    "vehicles= []  #store all spawned vehicle objects\n",
    "\n",
    "# spawn 3 vehicles at first three spawn points\n",
    "\n",
    "for i in range(20):\n",
    "    vehicle = world.spawn_actor(vehicle_bp, spawn_points[i])\n",
    "    vehicle.set_autopilot(True)\n",
    "    vehicles.append(vehicle)\n",
    "    print(f' Vehicle {i+1} spawned at {spawn_points[i]}.location')"
   ]
  },
  {
   "cell_type": "code",
   "execution_count": null,
   "id": "95fff691-93c6-4ff5-b166-cbb48fac03a8",
   "metadata": {},
   "outputs": [],
   "source": [
    "for vehicle in vehicles:\n",
    "    if vehicle.is_alive:\n",
    "        vehicle.destroy()\n"
   ]
  },
  {
   "cell_type": "code",
   "execution_count": null,
   "id": "e060477a-7ea6-494b-9e63-e49cc2468d98",
   "metadata": {},
   "outputs": [],
   "source": []
  }
 ],
 "metadata": {
  "kernelspec": {
   "display_name": "CARLA (new_env)",
   "language": "python",
   "name": "carla_jupyter_env"
  },
  "language_info": {
   "codemirror_mode": {
    "name": "ipython",
    "version": 3
   },
   "file_extension": ".py",
   "mimetype": "text/x-python",
   "name": "python",
   "nbconvert_exporter": "python",
   "pygments_lexer": "ipython3",
   "version": "3.10.12"
  }
 },
 "nbformat": 4,
 "nbformat_minor": 5
}
