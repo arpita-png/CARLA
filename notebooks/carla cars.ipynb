{
 "cells": [
  {
   "cell_type": "code",
   "execution_count": 1,
   "id": "c883448a-f27e-4fb2-86b9-05ac8b853932",
   "metadata": {},
   "outputs": [],
   "source": [
    "# import libraries\n",
    "import carla\n",
    "import random"
   ]
  },
  {
   "cell_type": "code",
   "execution_count": 2,
   "id": "646ee34c-39f9-4eff-8b56-4d02c8c04adc",
   "metadata": {},
   "outputs": [],
   "source": [
    "# Connect to the carla simulator\n",
    "\n",
    "client = carla.Client('localhost', 2000)\n",
    "client.set_timeout(10.0)"
   ]
  },
  {
   "cell_type": "code",
   "execution_count": 3,
   "id": "cbdade9a-ee84-4c0f-9273-aff7f1e59de9",
   "metadata": {},
   "outputs": [
    {
     "name": "stdout",
     "output_type": "stream",
     "text": [
      "Connected to- Carla/Maps/Town01\n"
     ]
    }
   ],
   "source": [
    "# load the town map\n",
    "\n",
    "world = client.get_world()\n",
    "print(\"Connected to-\", world.get_map().name)"
   ]
  },
  {
   "cell_type": "code",
   "execution_count": 4,
   "id": "0a3a88a4-c709-4741-adeb-74261842870a",
   "metadata": {},
   "outputs": [
    {
     "name": "stdout",
     "output_type": "stream",
     "text": [
      "Map sucessfully changed to town 03\n"
     ]
    }
   ],
   "source": [
    "# loading town 03 map\n",
    "\n",
    "world = client.load_world('/Game/Carla/Maps/Town03')\n",
    "print('Map sucessfully changed to town 03')"
   ]
  },
  {
   "cell_type": "code",
   "execution_count": 5,
   "id": "1aebefca-bf67-42b1-b1e8-0b64bac738c4",
   "metadata": {},
   "outputs": [],
   "source": [
    "spawn_points = world.get_map().get_spawn_points()\n",
    "vehicle_bp = world.get_blueprint_library().find('vehicle.tesla.model3')\n",
    "start_point = spawn_points[0]\n",
    "vehicle = world.try_spawn_actor(vehicle_bp,start_point)"
   ]
  },
  {
   "cell_type": "code",
   "execution_count": 6,
   "id": "7f9ae03a-0a34-4503-855d-0d0d99ce4ad7",
   "metadata": {},
   "outputs": [],
   "source": [
    "# send vehicle off\n",
    "\n",
    "vehicle.set_autopilot(True)"
   ]
  },
  {
   "cell_type": "code",
   "execution_count": 7,
   "id": "deb6c64b-f733-4c41-a40a-543ee56e61ec",
   "metadata": {},
   "outputs": [
    {
     "name": "stdout",
     "output_type": "stream",
     "text": [
      "Transform(Location(x=-10.469911, y=36.787701, z=0.001838), Rotation(pitch=0.001093, yaw=85.494446, roll=-0.035706))\n"
     ]
    }
   ],
   "source": [
    "# get car position on map\n",
    "\n",
    "vehicle_pos = vehicle.get_transform()\n",
    "print(vehicle_pos)"
   ]
  },
  {
   "cell_type": "code",
   "execution_count": 87,
   "id": "8bccb5dc-827d-4f41-b1a1-d8d02d77532d",
   "metadata": {},
   "outputs": [
    {
     "name": "stdout",
     "output_type": "stream",
     "text": [
      "Transform(Location(x=-6.446170, y=-79.055023, z=0.275307), Rotation(pitch=0.000000, yaw=92.004189, roll=0.000000))\n"
     ]
    }
   ],
   "source": [
    "print(start_point)"
   ]
  },
  {
   "cell_type": "code",
   "execution_count": null,
   "id": "a6e7580c-d0b4-4bfd-ac9d-f4c6ff4952b0",
   "metadata": {},
   "outputs": [],
   "source": []
  },
  {
   "cell_type": "code",
   "execution_count": 8,
   "id": "60965c85-c500-4ab5-b72e-4fa401f495ce",
   "metadata": {},
   "outputs": [
    {
     "name": "stdout",
     "output_type": "stream",
     "text": [
      "Transform(Location(x=-9.844290, y=79.079483, z=0.001843), Rotation(pitch=0.000171, yaw=89.619011, roll=0.000004))\n"
     ]
    }
   ],
   "source": [
    "# getting actual position from thw moving car\n",
    "\n",
    "vehicle_pos = vehicle.get_transform()\n",
    "print(vehicle_pos)"
   ]
  },
  {
   "cell_type": "code",
   "execution_count": 89,
   "id": "ab7d5758-1f43-4f11-b223-9b7e429d0d96",
   "metadata": {},
   "outputs": [],
   "source": [
    "town_map = world.get_map()"
   ]
  },
  {
   "cell_type": "code",
   "execution_count": 90,
   "id": "dc6ea10e-53c4-4feb-a612-5848123dcbf3",
   "metadata": {},
   "outputs": [
    {
     "data": {
      "text/plain": [
       "carla.libcarla.Map"
      ]
     },
     "execution_count": 90,
     "metadata": {},
     "output_type": "execute_result"
    }
   ],
   "source": [
    "type(town_map)"
   ]
  },
  {
   "cell_type": "code",
   "execution_count": 11,
   "id": "1c28b884-22ba-44ff-8572-8373bb97ebcc",
   "metadata": {},
   "outputs": [
    {
     "name": "stdout",
     "output_type": "stream",
     "text": [
      "Vehicle successfully destroyed.\n"
     ]
    }
   ],
   "source": [
    "# destroy \n",
    "\n",
    "if vehicle is not None:\n",
    "    if vehicle.is_alive:\n",
    "        vehicle.destroy()\n",
    "        print(\"Vehicle successfully destroyed.\")\n",
    "    else:\n",
    "        print(\"Vehicle is already destroyed.\")\n",
    "else:\n",
    "    print(\"No vehicle to destroy.\")\n"
   ]
  },
  {
   "cell_type": "code",
   "execution_count": 95,
   "id": "ae0183ea-7221-428b-81b1-2ac695c6147d",
   "metadata": {},
   "outputs": [
    {
     "name": "stdout",
     "output_type": "stream",
     "text": [
      "All vehicles destroyed.\n"
     ]
    }
   ],
   "source": [
    "# multiple destry\n",
    "\n",
    "actor_list = world.get_actors().filter('*vehicle*')\n",
    "for actor in actor_list:\n",
    "    actor.destroy()\n",
    "print(\"All vehicles destroyed.\")\n"
   ]
  },
  {
   "cell_type": "code",
   "execution_count": 9,
   "id": "1d173c9a-dca9-4fd5-aaec-ce4584a71775",
   "metadata": {},
   "outputs": [
    {
     "name": "stdout",
     "output_type": "stream",
     "text": [
      "Available vehicle blueprints:\n",
      "vehicle.audi.a2\n",
      "vehicle.citroen.c3\n",
      "vehicle.chevrolet.impala\n",
      "vehicle.dodge.charger_police_2020\n",
      "vehicle.micro.microlino\n",
      "vehicle.dodge.charger_police\n",
      "vehicle.audi.tt\n",
      "vehicle.jeep.wrangler_rubicon\n",
      "vehicle.mercedes.coupe\n",
      "vehicle.yamaha.yzf\n",
      "vehicle.mercedes.coupe_2020\n",
      "vehicle.harley-davidson.low_rider\n",
      "vehicle.dodge.charger_2020\n",
      "vehicle.ford.ambulance\n",
      "vehicle.lincoln.mkz_2020\n",
      "vehicle.mini.cooper_s_2021\n",
      "vehicle.ford.crown\n",
      "vehicle.toyota.prius\n",
      "vehicle.carlamotors.european_hgv\n",
      "vehicle.carlamotors.carlacola\n",
      "vehicle.vespa.zx125\n",
      "vehicle.nissan.patrol_2021\n",
      "vehicle.mercedes.sprinter\n",
      "vehicle.audi.etron\n",
      "vehicle.seat.leon\n",
      "vehicle.volkswagen.t2_2021\n",
      "vehicle.tesla.cybertruck\n",
      "vehicle.lincoln.mkz_2017\n",
      "vehicle.carlamotors.firetruck\n",
      "vehicle.ford.mustang\n",
      "vehicle.volkswagen.t2\n",
      "vehicle.mitsubishi.fusorosa\n",
      "vehicle.tesla.model3\n",
      "vehicle.diamondback.century\n",
      "vehicle.gazelle.omafiets\n",
      "vehicle.bmw.grandtourer\n",
      "vehicle.bh.crossbike\n",
      "vehicle.kawasaki.ninja\n",
      "vehicle.nissan.patrol\n",
      "vehicle.nissan.micra\n",
      "vehicle.mini.cooper_s\n"
     ]
    }
   ],
   "source": [
    "blueprint_library = world.get_blueprint_library()\n",
    "vehicle_blueprints = blueprint_library.filter('vehicle.*')\n",
    "\n",
    "print(\"Available vehicle blueprints:\")\n",
    "for bp in vehicle_blueprints:\n",
    "    print(bp.id)\n"
   ]
  },
  {
   "cell_type": "code",
   "execution_count": 10,
   "id": "38f86c91-d9ed-4eec-9a41-952c8749dafe",
   "metadata": {},
   "outputs": [
    {
     "name": "stdout",
     "output_type": "stream",
     "text": [
      "vehicle.tesla.cybertruck\n",
      "vehicle.tesla.model3\n"
     ]
    }
   ],
   "source": [
    "tesla_vehicles = blueprint_library.filter('*tesla*')\n",
    "for bp in tesla_vehicles:\n",
    "    print(bp.id)\n"
   ]
  },
  {
   "cell_type": "code",
   "execution_count": null,
   "id": "bcd0ced3-d26b-4efc-a21a-60f67a371b01",
   "metadata": {},
   "outputs": [],
   "source": []
  }
 ],
 "metadata": {
  "kernelspec": {
   "display_name": "CARLA (new_env)",
   "language": "python",
   "name": "carla_jupyter_env"
  },
  "language_info": {
   "codemirror_mode": {
    "name": "ipython",
    "version": 3
   },
   "file_extension": ".py",
   "mimetype": "text/x-python",
   "name": "python",
   "nbconvert_exporter": "python",
   "pygments_lexer": "ipython3",
   "version": "3.10.12"
  }
 },
 "nbformat": 4,
 "nbformat_minor": 5
}
